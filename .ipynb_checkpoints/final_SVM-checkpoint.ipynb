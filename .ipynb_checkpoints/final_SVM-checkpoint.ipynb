{
 "cells": [
  {
   "cell_type": "code",
   "execution_count": 17,
   "id": "c0ad738a-55e3-4912-96b0-bfb5b6608779",
   "metadata": {},
   "outputs": [
    {
     "data": {
      "text/plain": [
       "['221127SVM.pkl']"
      ]
     },
     "execution_count": 17,
     "metadata": {},
     "output_type": "execute_result"
    }
   ],
   "source": [
    "import pandas as pd\n",
    "import numpy as np\n",
    "import matplotlib.pyplot as plt\n",
    "from sklearn.linear_model import LinearRegression\n",
    "from sklearn.metrics import mean_squared_error\n",
    "\n",
    "# df = pd.read_csv(\"Dataset/pose_angles.csv\")\n",
    "df = pd.read_csv(\"Dataset/pose_angles_3.csv\")\n",
    "\n",
    "df = df.drop('num', axis = 1)\n",
    "df.head()\n",
    "\n",
    "# get X, y\n",
    "X = df.values[:, :-1]\n",
    "y = df.values[:, -1]\n",
    "\n",
    "from sklearn.model_selection import train_test_split\n",
    "X_train, X_test, y_train, y_test = train_test_split(X, y, test_size=0.3, random_state=1, stratify=y)\n",
    "\n",
    "from sklearn.svm import SVC\n",
    "svm = SVC(kernel='linear', random_state=1, gamma=0.01, C=0.001)\n",
    "svm.fit(X_train, y_train)\n",
    "\n",
    "import joblib\n",
    "filename = '221127SVM.pkl'\n",
    "joblib.dump(svm, filename)"
   ]
  },
  {
   "cell_type": "code",
   "execution_count": 18,
   "id": "a683296a-26ce-4184-854f-0fcf7c2e628a",
   "metadata": {},
   "outputs": [
    {
     "name": "stdout",
     "output_type": "stream",
     "text": [
      "Train accuracy : 0.9712\n"
     ]
    }
   ],
   "source": [
    "# Train accuracy\n",
    "acc = svm.score(X_train, y_train)\n",
    "train_acc = acc\n",
    "print(\"Train accuracy : %.4f\" % acc)"
   ]
  },
  {
   "cell_type": "code",
   "execution_count": 19,
   "id": "fa5dc0e0-18be-4d49-9358-1769860cc530",
   "metadata": {},
   "outputs": [
    {
     "name": "stdout",
     "output_type": "stream",
     "text": [
      "Test accuracy : 0.9530\n"
     ]
    }
   ],
   "source": [
    "# Test accuracy\n",
    "acc = svm.score(X_test, y_test)\n",
    "test_acc = acc\n",
    "print(\"Test accuracy : %.4f\" % acc)"
   ]
  },
  {
   "cell_type": "code",
   "execution_count": 24,
   "id": "2ef05a1f-651d-42ae-a830-9abaf52a85b9",
   "metadata": {},
   "outputs": [
    {
     "name": "stdout",
     "output_type": "stream",
     "text": [
      "['arm_stretch_up']\n",
      "['arm_stretch_upper_right']\n",
      "['arm_stretch_upper_left']\n",
      "['hurray']\n",
      "['raise_right_leg']\n",
      "['raise_left_leg']\n",
      "['side_stretch_left_leg']\n",
      "['side_stretch_right_leg']\n",
      "['right_side_stretch']\n",
      "['left_side_stretch']\n"
     ]
    }
   ],
   "source": [
    "## FINAL VERIFICATION \n",
    "print(loaded_model.predict([[172, 162, 150, 143, 83, 89, 177, 177, 175, 174]]))  # arm_stretch_up\n",
    "print(loaded_model.predict([[142, 169, 124, 123, 121, 60, 152, 169, 161, 179]])) # arm_stretch_upper_right\n",
    "print(loaded_model.predict([[154, 154, 150, 167, 74, 111, 149, 132, 178, 178]])) # arm_stretch_upper_left\n",
    "print(loaded_model.predict([[138, 144, 158, 165, 89, 91, 173, 173, 175, 176]]))  # hurray\n",
    "print(loaded_model.predict([[95, 108, 180, 171, 144, 93, 113, 176, 119, 178]]))  # raise_right_leg\n",
    "print(loaded_model.predict([[116, 98, 168, 168, 82, 162, 169, 108, 180, 124]]))  # raise_left_leg\n",
    "print(loaded_model.predict([[37, 38, 170, 136, 107, 136, 141, 151, 176, 82]]))   # side_stretch_left_leg\n",
    "print(loaded_model.predict([[52, 52, 110, 116, 122, 114, 149, 145, 149, 162]]))  # side_stretch_right_leg\n",
    "print(loaded_model.predict([[163, 50, 130, 113, 81, 122, 151, 118, 173, 180]]))  # right_side_stretch\n",
    "print(loaded_model.predict([[31, 163, 140, 158, 117, 72, 133, 157, 175, 177]]))  # left_side_stretch"
   ]
  },
  {
   "cell_type": "code",
   "execution_count": 22,
   "id": "e5f1dc05-e047-4a9f-b133-c72e7235b4e2",
   "metadata": {},
   "outputs": [
    {
     "name": "stdout",
     "output_type": "stream",
     "text": [
      "['arm_stretch_up'] ['arm_stretch_upper_right'] \n",
      " ['arm_stretch_upper_left'] ['hurray'] \n",
      " ['raise_right_leg'] ['raise_left_leg'] \n",
      " ['side_stretch_left_leg'] ['side_stretch_right_leg'] \n",
      " ['right_side_stretch'] ['left_side_stretch']\n"
     ]
    }
   ],
   "source": [
    "loaded_model = joblib.load(filename)\n",
    "result1 = loaded_model.predict([[172.5239071, 162.8347442, 150.9715665, 143.4840696, 83.62199763, \n",
    "                                 89.54786762, 177.7609784, 177.8100569, 175.6155238, 174.1015142]]) # arm_stretch_up\n",
    "result2 = loaded_model.predict([[142.7519654, 169.025392, 124.9008424, 123.1321845, 121.7220669, \n",
    "                                 60.08809859, 152.714824, 169.6088304, 161.9006396, 179.3288191]]) # arm_stretch_upper_right\n",
    "result3 = loaded_model.predict([[154.7683209, 154.6111177, 150.8418142, 167.5473074, 74.31942808, \n",
    "                                 111.3047489, 149.0512072, 132.9173748, 178.4876217, 178.7471675]]) # arm_stretch_upper_left\n",
    "result4 = loaded_model.predict([[138.0295469, 144.2395836, 158.1916739, 165.9127631, 89.81498057, \n",
    "                                 91.46418105, 173.2074739, 173.1343934, 175.4253194, 176.442203]]) # hurray\n",
    "result5 = loaded_model.predict([[95.49751032, 108.7036497, 180.2902294, 171.3307645, 144.4415272, \n",
    "                                 93.95187412, 113.1862132, 176.5986363, 119.9375269, 178.5557354]]) # raise_right_leg\n",
    "result6 = loaded_model.predict([[116.4326357, 98.88469311, 168.9458548, 168.2900311, 82.09256704,\n",
    "                                 162.5383588, 169.4486727, 108.4906415, 180.3546478, 124.9489893]]) # raise_left_leg\n",
    "result7 = loaded_model.predict([[37.27625223, 38.33644171, 170.2774101, 136.7075179, 107.5496166, \n",
    "                                 136.9272826, 141.9963154, 151.0029055, 176.041398, 82.97478719]]) # side_stretch_left_leg\n",
    "result8 = loaded_model.predict([[52.28913683, 52.35957941, 110.1160164, 116.5598096, 122.6015224, \n",
    "                                 114.7433201, 149.4516338, 145.0786061, 149.5721987, 162.2000437]]) # side_stretch_right_leg\n",
    "result9 = loaded_model.predict([[163.3719868, 50.90240817, 130.1271131, 113.0656884, 81.84978894,\n",
    "                                 122.0504618, 151.4027833, 118.8463114, 173.2183069, 180.3078291]]) # right_side_stretch\n",
    "result10 = loaded_model.predict([[31.11262134, 163.0292659, 140.4472389, 158.3937777, 117.314403,\n",
    "                                  72.04203657, 133.5918542, 157.1832769, 175.7414988, 177.0610629]]) # left_side_stretch\n",
    "print(result1, result2, \"\\n\", result3, result4, \"\\n\", result5, result6, \"\\n\", result7, result8, \"\\n\", result9, result10)"
   ]
  },
  {
   "cell_type": "code",
   "execution_count": 23,
   "id": "7fcb7c46-dda0-41d2-8384-d86ed1e71402",
   "metadata": {},
   "outputs": [
    {
     "name": "stdout",
     "output_type": "stream",
     "text": [
      "['arm_stretch_up']\n",
      "['arm_stretch_upper_right']\n",
      "['arm_stretch_upper_left']\n",
      "['hurray']\n",
      "['raise_right_leg']\n",
      "['raise_left_leg']\n",
      "['side_stretch_left_leg']\n",
      "['side_stretch_right_leg']\n",
      "['right_side_stretch']\n",
      "['left_side_stretch']\n"
     ]
    }
   ],
   "source": [
    "print(loaded_model.predict([[172.5239071, 162.8347442, 150.9715665, 143.4840696, 83.62199763, \n",
    "                             89.54786762, 177.7609784, 177.8100569, 175.6155238, 174.1015142]])) # arm_stretch_up\n",
    "print(loaded_model.predict([[142.7519654, 169.025392, 124.9008424, 123.1321845, 121.7220669, \n",
    "                             60.08809859, 152.714824, 169.6088304, 161.9006396, 179.3288191]]))# arm_stretch_upper_right\n",
    "print(loaded_model.predict([[154.7683209, 154.6111177, 150.8418142, 167.5473074, 74.31942808, \n",
    "                             111.3047489, 149.0512072, 132.9173748, 178.4876217, 178.7471675]])) # arm_stretch_upper_left\n",
    "print(loaded_model.predict([[138.0295469, 144.2395836, 158.1916739, 165.9127631, 89.81498057, \n",
    "                             91.46418105, 173.2074739, 173.1343934, 175.4253194, 176.442203]])) # hurray\n",
    "print(loaded_model.predict([[95.49751032, 108.7036497, 180.2902294, 171.3307645, 144.4415272, \n",
    "                             93.95187412, 113.1862132, 176.5986363, 119.9375269, 178.5557354]])) # raise_right_leg\n",
    "print(loaded_model.predict([[116.4326357, 98.88469311, 168.9458548, 168.2900311, 82.09256704,\n",
    "                             162.5383588, 169.4486727, 108.4906415, 180.3546478, 124.9489893]])) # raise_left_leg\n",
    "print(loaded_model.predict([[37.27625223, 38.33644171, 170.2774101, 136.7075179, 107.5496166, \n",
    "                             136.9272826, 141.9963154, 151.0029055, 176.041398, 82.97478719]])) # side_stretch_left_leg\n",
    "print(loaded_model.predict([[52.28913683, 52.35957941, 110.1160164, 116.5598096, 122.6015224,\n",
    "                             114.7433201, 149.4516338, 145.0786061, 149.5721987, 162.2000437]])) # side_stretch_right_leg\n",
    "print(loaded_model.predict([[163.3719868, 50.90240817, 130.1271131, 113.0656884, 81.84978894,\n",
    "                             122.0504618, 151.4027833, 118.8463114, 173.2183069, 180.3078291]])) # right_side_stretch\n",
    "print(loaded_model.predict([[31.11262134, 163.0292659, 140.4472389, 158.3937777, 117.314403,\n",
    "                             72.04203657, 133.5918542, 157.1832769, 175.7414988, 177.0610629]])) # left_side_stretch"
   ]
  },
  {
   "cell_type": "code",
   "execution_count": null,
   "id": "809d4d73-90dd-4cce-90e4-b5a8fd2d44b2",
   "metadata": {},
   "outputs": [],
   "source": []
  }
 ],
 "metadata": {
  "kernelspec": {
   "display_name": "Python 3",
   "language": "python",
   "name": "python3"
  },
  "language_info": {
   "codemirror_mode": {
    "name": "ipython",
    "version": 3
   },
   "file_extension": ".py",
   "mimetype": "text/x-python",
   "name": "python",
   "nbconvert_exporter": "python",
   "pygments_lexer": "ipython3",
   "version": "3.6.9"
  }
 },
 "nbformat": 4,
 "nbformat_minor": 5
}
