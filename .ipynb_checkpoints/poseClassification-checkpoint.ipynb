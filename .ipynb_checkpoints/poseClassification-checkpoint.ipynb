{
 "cells": [
  {
   "cell_type": "code",
   "execution_count": 1,
   "id": "fd0cff0c-8a65-4991-8b14-3c1222ca4b86",
   "metadata": {
    "tags": []
   },
   "outputs": [
    {
     "name": "stdout",
     "output_type": "stream",
     "text": [
      "INFO:tensorflow:Enabling eager execution\n",
      "INFO:tensorflow:Enabling v2 tensorshape\n",
      "INFO:tensorflow:Enabling resource variables\n",
      "INFO:tensorflow:Enabling tensor equality\n",
      "INFO:tensorflow:Enabling control flow v2\n"
     ]
    }
   ],
   "source": [
    "import tensorflow as tf\n",
    "import numpy as np\n",
    "import matplotlib.pyplot as plt\n",
    "import cv2\n",
    "from tensorflow.keras.preprocessing.image import ImageDataGenerator\n",
    "\n",
    "from PIL import Image\n",
    "import glob"
   ]
  },
  {
   "cell_type": "code",
   "execution_count": null,
   "id": "32984c09-0c06-491f-a7d8-f49afa4f4303",
   "metadata": {},
   "outputs": [],
   "source": [
    "# cnt_pose1 = 0\n",
    "# pose_img = []\n",
    "# for filename in glob.glob(r'/home/ks/poseClassification/Dataset/pose1/*.jpg'):\n",
    "#     cnt_pose1 += 1\n",
    "#     img = cv2.imread(filename)\n",
    "#     cv2.resize(img, (224, 224))  # 픽셀 단위\n",
    "#     pose_img.append(img)\n",
    "# print(type(pose_img), len(pose_img))"
   ]
  },
  {
   "cell_type": "code",
   "execution_count": 3,
   "id": "0b03e0c3-227f-401a-b04d-0a3c0d1da075",
   "metadata": {},
   "outputs": [],
   "source": [
    "# cnt_pose2 = 0\n",
    "# for filename in glob.glob(r'/home/ks/poseClassification/Dataset/pose2/*.jpg'):\n",
    "#     cnt_pose2 += 1\n",
    "#     img = cv2.imread(filename)\n",
    "#     cv2.resize(img, (224, 224))  # 픽셀 단위\n",
    "#     pose_img.append(img)\n",
    "# print(type(pose_img), len(pose_img))"
   ]
  },
  {
   "cell_type": "code",
   "execution_count": 4,
   "id": "c7e797f8-fe80-4d14-a110-05e633dfa056",
   "metadata": {},
   "outputs": [],
   "source": [
    "# y_1 = [1 for i in range(cnt_pose1)]\n",
    "# y_2 = [2 for i in range(cnt_pose2)]\n",
    "\n",
    "# X_train = np.array(pose_img)\n",
    "# y_train = np.array(y_1 + y_2)\n",
    "# # (X_test, y_test) \n",
    "# X_train = X_train/255.0\n",
    "# y_train = y_train\n",
    "# num_classes = 2"
   ]
  },
  {
   "cell_type": "code",
   "execution_count": 2,
   "id": "b56b7ba8-b157-417d-a8a0-c60175cc800d",
   "metadata": {},
   "outputs": [
    {
     "name": "stdout",
     "output_type": "stream",
     "text": [
      "Found 231 images belonging to 2 classes.\n"
     ]
    }
   ],
   "source": [
    "train_path = '/home/ks/poseClassification/Dataset'\n",
    "train_datagen = ImageDataGenerator(rescale = 1./255)\n",
    "# test_datagen = ImageDataGenerator(rescale=1/255.)\n",
    "training_set = train_datagen.flow_from_directory(directory=train_path,\n",
    "                                                 target_size=(224, 224),\n",
    "                                                 batch_size=32,\n",
    "                                                 class_mode='categorical',\n",
    "                                                 shuffle=True)\n",
    "train_y=training_set.classes"
   ]
  },
  {
   "cell_type": "code",
   "execution_count": 6,
   "id": "a481c8b3-d028-44e0-8d2e-8aed01581626",
   "metadata": {},
   "outputs": [],
   "source": [
    "# X_train = X_train.reshape(X_train.shape[0], 28, 28, 1) \n",
    "# X_train.shape"
   ]
  },
  {
   "cell_type": "code",
   "execution_count": 7,
   "id": "651d5da3-5117-4b4f-93b0-4d4067a1c156",
   "metadata": {},
   "outputs": [],
   "source": [
    "# y_train = y_train.reshape(y_train.shape[0], 1) \n",
    "# y_train.shape"
   ]
  },
  {
   "cell_type": "code",
   "execution_count": 3,
   "id": "65245176-029d-4cd6-895d-c0dab9e38732",
   "metadata": {},
   "outputs": [],
   "source": [
    "# CNN model with 2 convolution layers \n",
    "#    1. 32 3x3 filters, padding = \"same\", input_shape = (28, 28, 1), activation=\"relu\"\n",
    "#    2. 64 3x3 filters, activation=\"relu\"\n",
    "# and 2 dense layers (128, 10)\n",
    "#    3. 128, activation=\"relu\"\n",
    "#    4. 10, activation=\"softmax\"\n",
    "layers = tf.keras.layers\n",
    "base_model = tf.keras.Sequential([\n",
    "    layers.Conv2D(32, kernel_size=(3, 3), padding=\"same\", input_shape=(28,28,1), activation=\"relu\"),\n",
    "    layers.Conv2D(64, kernel_size=(3, 3), activation=\"relu\"),\n",
    "    layers.MaxPool2D(pool_size=2),\n",
    "    layers.Flatten(),\n",
    "    layers.Dense(128, activation=\"relu\"),\n",
    "    layers.Dense(10, activation=\"softmax\")\n",
    "])\n",
    "\n",
    "# base_model.summary()"
   ]
  },
  {
   "cell_type": "code",
   "execution_count": 4,
   "id": "395b70fb-dfe1-4b48-916c-e88df3224010",
   "metadata": {},
   "outputs": [],
   "source": [
    "# compile the model with loss='sparse_categorical_crossentropy', optimizer='adam', metrics=['accuracy']\n",
    "base_model.compile(loss='sparse_categorical_crossentropy',\n",
    "                   optimizer='adam',\n",
    "                   metrics=['accuracy'])"
   ]
  },
  {
   "cell_type": "code",
   "execution_count": 5,
   "id": "2e8b57ac-5a78-408b-87ce-da214c2bc467",
   "metadata": {},
   "outputs": [
    {
     "ename": "NameError",
     "evalue": "name 'train_generator' is not defined",
     "output_type": "error",
     "traceback": [
      "\u001b[0;31m---------------------------------------------------------------------------\u001b[0m",
      "\u001b[0;31mNameError\u001b[0m                                 Traceback (most recent call last)",
      "\u001b[0;32m<ipython-input-5-23d54931cd9c>\u001b[0m in \u001b[0;36m<module>\u001b[0;34m\u001b[0m\n\u001b[0;32m----> 1\u001b[0;31m \u001b[0msteps_per_epoch\u001b[0m \u001b[0;34m=\u001b[0m \u001b[0mnp\u001b[0m\u001b[0;34m.\u001b[0m\u001b[0mceil\u001b[0m\u001b[0;34m(\u001b[0m\u001b[0mtrain_generator\u001b[0m\u001b[0;34m.\u001b[0m\u001b[0msamples\u001b[0m\u001b[0;34m/\u001b[0m\u001b[0mtrain_generator\u001b[0m\u001b[0;34m.\u001b[0m\u001b[0mbatch_size\u001b[0m\u001b[0;34m)\u001b[0m\u001b[0;34m\u001b[0m\u001b[0;34m\u001b[0m\u001b[0m\n\u001b[0m\u001b[1;32m      2\u001b[0m \u001b[0mval_steps_per_epoch\u001b[0m \u001b[0;34m=\u001b[0m \u001b[0mnp\u001b[0m\u001b[0;34m.\u001b[0m\u001b[0mceil\u001b[0m\u001b[0;34m(\u001b[0m\u001b[0mvalid_generator\u001b[0m\u001b[0;34m.\u001b[0m\u001b[0msamples\u001b[0m\u001b[0;34m/\u001b[0m\u001b[0mvalid_generator\u001b[0m\u001b[0;34m.\u001b[0m\u001b[0mbatch_size\u001b[0m\u001b[0;34m)\u001b[0m\u001b[0;34m\u001b[0m\u001b[0;34m\u001b[0m\u001b[0m\n\u001b[1;32m      3\u001b[0m \u001b[0;31m# train the CNN model with X_train, y_train, 10 epochs, validation_data=(X_test, y_test)\u001b[0m\u001b[0;34m\u001b[0m\u001b[0;34m\u001b[0m\u001b[0;34m\u001b[0m\u001b[0m\n\u001b[1;32m      4\u001b[0m \u001b[0mbase_history\u001b[0m \u001b[0;34m=\u001b[0m \u001b[0mbase_model\u001b[0m\u001b[0;34m.\u001b[0m\u001b[0mfit\u001b[0m\u001b[0;34m(\u001b[0m\u001b[0mtrain_datagen\u001b[0m\u001b[0;34m,\u001b[0m \u001b[0mepochs\u001b[0m\u001b[0;34m=\u001b[0m\u001b[0;36m10\u001b[0m\u001b[0;34m,\u001b[0m \u001b[0mverbose\u001b[0m\u001b[0;34m=\u001b[0m\u001b[0;36m1\u001b[0m\u001b[0;34m)\u001b[0m\u001b[0;34m.\u001b[0m\u001b[0mhistory\u001b[0m\u001b[0;34m\u001b[0m\u001b[0;34m\u001b[0m\u001b[0m\n",
      "\u001b[0;31mNameError\u001b[0m: name 'train_generator' is not defined"
     ]
    }
   ],
   "source": [
    "steps_per_epoch = np.ceil(train_generator.samples/train_generator.batch_size)\n",
    "val_steps_per_epoch = np.ceil(valid_generator.samples/valid_generator.batch_size)\n",
    "# train the CNN model with X_train, y_train, 10 epochs, validation_data=(X_test, y_test)\n",
    "base_history = base_model.fit(train_datagen, epochs=10, verbose=1).history"
   ]
  },
  {
   "cell_type": "markdown",
   "id": "2dfa3608-69e2-400f-9375-35d8250d63b2",
   "metadata": {},
   "source": [
    "## Plotting the learning curve"
   ]
  },
  {
   "cell_type": "code",
   "execution_count": null,
   "id": "33f06cbe-99d0-486f-9b12-78042d09b891",
   "metadata": {},
   "outputs": [],
   "source": [
    "def plot_history(histories, key='loss'):\n",
    "    plt.figure(figsize=(8,5))\n",
    "\n",
    "    for name, history in histories:\n",
    "        val = plt.plot(history.epoch, history.history['val_'+key],\n",
    "                       '--', label=name.title()+' Val')\n",
    "        plt.plot(history.epoch, history.history[key], color=val[0].get_color(),\n",
    "                 label=name.title()+' Train')\n",
    "\n",
    "    plt.xlabel('Epochs')\n",
    "    plt.ylabel(key.replace('_',' ').title())\n",
    "    plt.legend()\n",
    "    plt.xlim([0,max(history.epoch)])\n",
    "\n",
    "# plot the train/validation losses for each model\n",
    "plot_history([('Base CNNs', base_history),\n",
    "              ('Dropout CNNs', drop_history)])"
   ]
  }
 ],
 "metadata": {
  "kernelspec": {
   "display_name": "Python 3",
   "language": "python",
   "name": "python3"
  },
  "language_info": {
   "codemirror_mode": {
    "name": "ipython",
    "version": 3
   },
   "file_extension": ".py",
   "mimetype": "text/x-python",
   "name": "python",
   "nbconvert_exporter": "python",
   "pygments_lexer": "ipython3",
   "version": "3.6.9"
  },
  "toc-showcode": false
 },
 "nbformat": 4,
 "nbformat_minor": 5
}
