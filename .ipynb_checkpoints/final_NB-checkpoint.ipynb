{
 "cells": [
  {
   "cell_type": "code",
   "execution_count": 5,
   "id": "931d0e63-ef44-4936-bb74-2d541fbc9f60",
   "metadata": {},
   "outputs": [
    {
     "data": {
      "text/plain": [
       "['221127NBC.pkl']"
      ]
     },
     "execution_count": 5,
     "metadata": {},
     "output_type": "execute_result"
    }
   ],
   "source": [
    "import pandas as pd\n",
    "import numpy as np\n",
    "import matplotlib.pyplot as plt\n",
    "from sklearn.linear_model import LinearRegression\n",
    "from sklearn.metrics import mean_squared_error\n",
    "\n",
    "# df = pd.read_csv(\"Dataset/pose_angles.csv\")\n",
    "df = pd.read_csv(\"Dataset/pose_angles_3.csv\")\n",
    "\n",
    "df = df.drop('num', axis = 1)\n",
    "\n",
    "# get X, y\n",
    "X = df.values[:, :-1]\n",
    "y = df.values[:, -1]\n",
    "\n",
    "from sklearn.model_selection import train_test_split\n",
    "\n",
    "X_train, X_test, y_train, y_test = train_test_split(X, y, test_size=0.3, random_state=1, stratify=y)\n",
    "\n",
    "from sklearn.naive_bayes import GaussianNB\n",
    "\n",
    "gnb = GaussianNB()\n",
    "gnb.fit(X_train, y_train)\n",
    "\n",
    "# class probability p(Ck)\n",
    "gnb.class_prior_\n",
    "# mean of each feature per class for p(x|Ck)\n",
    "gnb.theta_\n",
    "# variance of each feature per class for p(x|Ck)\n",
    "gnb.sigma_\n",
    "\n",
    "import joblib\n",
    "filename = '221127NBC.pkl'\n",
    "joblib.dump(gnb, filename)"
   ]
  },
  {
   "cell_type": "code",
   "execution_count": 6,
   "id": "b38cc37e-cf09-4bf3-9240-8b784d09d686",
   "metadata": {},
   "outputs": [
    {
     "name": "stdout",
     "output_type": "stream",
     "text": [
      "['arm_stretch_up']\n"
     ]
    }
   ],
   "source": [
    "loaded_model = joblib.load(filename)\n",
    "result = loaded_model.predict([[172, 162, 150, 143, 83, 89, 177, 177, 175, 174]])\n",
    "print(result)"
   ]
  },
  {
   "cell_type": "code",
   "execution_count": 7,
   "id": "2ee8f569-281e-4d10-bf48-ee21c0822a1b",
   "metadata": {},
   "outputs": [
    {
     "name": "stdout",
     "output_type": "stream",
     "text": [
      "Train Accuracy :  0.9337175792507204\n"
     ]
    }
   ],
   "source": [
    "# Compute train accuracy\n",
    "acc = gnb.score(X_train, y_train)\n",
    "print(\"Train Accuracy : \", acc)"
   ]
  },
  {
   "cell_type": "code",
   "execution_count": 8,
   "id": "dbfb0125-6936-4348-9601-5362ae3fa6ed",
   "metadata": {},
   "outputs": [
    {
     "name": "stdout",
     "output_type": "stream",
     "text": [
      "Test Accuracy :  0.9395973154362416\n"
     ]
    }
   ],
   "source": [
    "# Compute test accuracy\n",
    "acc = gnb.score(X_test, y_test)\n",
    "print(\"Test Accuracy : \", acc)"
   ]
  },
  {
   "cell_type": "code",
   "execution_count": 9,
   "id": "29b91600-25e7-43bc-99ac-96763ae09eeb",
   "metadata": {},
   "outputs": [
    {
     "name": "stdout",
     "output_type": "stream",
     "text": [
      "['arm_stretch_up']\n",
      "['arm_stretch_upper_right']\n",
      "['arm_stretch_upper_left']\n",
      "['hurray']\n",
      "['raise_right_leg']\n",
      "['raise_left_leg']\n",
      "['side_stretch_left_leg']\n",
      "['side_stretch_right_leg']\n",
      "['right_side_stretch']\n",
      "['left_side_stretch']\n"
     ]
    }
   ],
   "source": [
    "print(loaded_model.predict([[172, 162, 150, 143, 83, 89, 177, 177, 175, 174]]))  # arm_stretch_up\n",
    "print(loaded_model.predict([[142, 169, 124, 123, 121, 60, 152, 169, 161, 179]])) # arm_stretch_upper_right\n",
    "print(loaded_model.predict([[154, 154, 150, 167, 74, 111, 149, 132, 178, 178]])) # arm_stretch_upper_left\n",
    "print(loaded_model.predict([[138, 144, 158, 165, 89, 91, 173, 173, 175, 176]]))  # hurray\n",
    "print(loaded_model.predict([[95, 108, 180, 171, 144, 93, 113, 176, 119, 178]]))  # raise_right_leg\n",
    "print(loaded_model.predict([[116, 98, 168, 168, 82, 162, 169, 108, 180, 124]]))  # raise_left_leg\n",
    "print(loaded_model.predict([[37, 38, 170, 136, 107, 136, 141, 151, 176, 82]]))   # side_stretch_left_leg\n",
    "print(loaded_model.predict([[52, 52, 110, 116, 122, 114, 149, 145, 149, 162]]))  # side_stretch_right_leg\n",
    "print(loaded_model.predict([[163, 50, 130, 113, 81, 122, 151, 118, 173, 180]]))  # right_side_stretch\n",
    "print(loaded_model.predict([[31, 163, 140, 158, 117, 72, 133, 157, 175, 177]]))  # left_side_stretch"
   ]
  }
 ],
 "metadata": {
  "kernelspec": {
   "display_name": "Python 3",
   "language": "python",
   "name": "python3"
  },
  "language_info": {
   "codemirror_mode": {
    "name": "ipython",
    "version": 3
   },
   "file_extension": ".py",
   "mimetype": "text/x-python",
   "name": "python",
   "nbconvert_exporter": "python",
   "pygments_lexer": "ipython3",
   "version": "3.6.9"
  }
 },
 "nbformat": 4,
 "nbformat_minor": 5
}
